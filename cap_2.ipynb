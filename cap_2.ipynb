{
 "cells": [
  {
   "cell_type": "markdown",
   "id": "5e9e7887",
   "metadata": {},
   "source": [
    "# A Estrtura de dados Series\n"
   ]
  },
  {
   "cell_type": "code",
   "execution_count": null,
   "id": "f83bb4ad",
   "metadata": {},
   "outputs": [],
   "source": [
    "import pandas as pd"
   ]
  },
  {
   "cell_type": "code",
   "execution_count": null,
   "id": "4886886f",
   "metadata": {},
   "outputs": [
    {
     "name": "stdout",
     "output_type": "stream",
     "text": [
      "0    7.6\n",
      "1    5.0\n",
      "2    8.5\n",
      "3    9.5\n",
      "4    6.4\n",
      "dtype: float64\n",
      "---------------\n",
      "M02      Bob\n",
      "M05    Dayse\n",
      "M13     Bill\n",
      "M14     Cris\n",
      "M19     Jimi\n",
      "dtype: object\n"
     ]
    }
   ],
   "source": [
    "#P01: Hello Series!\n",
    "\n",
    "#cria a Series notas\n",
    "notas = pd.Series([7.6, 5.0, 8.5, 9.5, 6.4])\n",
    "\n",
    "#cria a Series alunos\n",
    "lst_matriculas = ['M02', 'M05', 'M13', 'M14', 'M19']\n",
    "lst_nomes = ['Bob', 'Dayse', 'Bill', 'Cris', 'Jimi']\n",
    "alunos = pd.Series(lst_nomes, index=lst_matriculas)\n",
    "\n",
    "#imprime as duas Series\n",
    "print(notas); print(\"---------------\"); print(alunos)\n"
   ]
  },
  {
   "cell_type": "code",
   "execution_count": 3,
   "id": "5e7c0d83",
   "metadata": {},
   "outputs": [
    {
     "name": "stdout",
     "output_type": "stream",
     "text": [
      "matrículas\n",
      "M02      Bob\n",
      "M05    Dayse\n",
      "M13     Bill\n",
      "M14     Cris\n",
      "M19     Jimi\n",
      "Name: alunos, dtype: object\n",
      "---------\n",
      "número de elementos: 5\n",
      "vetor de dados: ['Bob' 'Dayse' 'Bill' 'Cris' 'Jimi']\n",
      "vetor de rótulos: Index(['M02', 'M05', 'M13', 'M14', 'M19'], dtype='object', name='matrículas')\n",
      "tipo (type): <class 'pandas.core.series.Series'>\n",
      "dtype da Series: object\n",
      "dtype do vetor de rótulos: object\n"
     ]
    }
   ],
   "source": [
    "#P02: Propriedades básicas das Series\n",
    "\n",
    "#cria a Series \"alunos\"\n",
    "alunos = pd.Series({'M02':'Bob', 'M05':'Dayse', 'M13':'Bill', \n",
    "                    'M14':'Cris', 'M19':'Jimi'})\n",
    "\n",
    "#atribui nomes p/ os vetores de dados e rótulos\n",
    "alunos.name = \"alunos\"\n",
    "alunos.index.name = \"matrículas\"\n",
    "\n",
    "#recupera e imprime as propriedades\n",
    "print(alunos)\n",
    "print('---------')\n",
    "tamanho      = alunos.size\n",
    "dados        = alunos.values\n",
    "rotulos      = alunos.index\n",
    "alunos_tipo  = type(alunos)\n",
    "alunos_dtype = alunos.dtype\n",
    "alunos_idx_dtype = alunos.index.dtype\n",
    "\n",
    "print('número de elementos:', tamanho)\n",
    "print('vetor de dados:', dados)\n",
    "print('vetor de rótulos:', rotulos)\n",
    "print('tipo (type):', alunos_tipo)\n",
    "print('dtype da Series:', alunos_dtype)\n",
    "print('dtype do vetor de rótulos:', alunos_idx_dtype)"
   ]
  }
 ],
 "metadata": {
  "kernelspec": {
   "display_name": "Python 3",
   "language": "python",
   "name": "python3"
  },
  "language_info": {
   "codemirror_mode": {
    "name": "ipython",
    "version": 3
   },
   "file_extension": ".py",
   "mimetype": "text/x-python",
   "name": "python",
   "nbconvert_exporter": "python",
   "pygments_lexer": "ipython3",
   "version": "3.12.1"
  }
 },
 "nbformat": 4,
 "nbformat_minor": 5
}
