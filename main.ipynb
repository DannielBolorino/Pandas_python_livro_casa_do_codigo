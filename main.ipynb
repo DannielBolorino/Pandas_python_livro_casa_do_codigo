{
 "cells": [
  {
   "cell_type": "markdown",
   "id": "def2f1c5",
   "metadata": {},
   "source": [
    "# Projeto Prático\n",
    "### O projeto consiste em realizar tarefas da biblioteca pandas em um dataframe de bandeiras"
   ]
  },
  {
   "cell_type": "code",
   "execution_count": 3,
   "id": "2a2a99a2",
   "metadata": {},
   "outputs": [
    {
     "name": "stdout",
     "output_type": "stream",
     "text": [
      "{'uci_id': 40, 'name': 'Flags', 'repository_url': 'https://archive.ics.uci.edu/dataset/40/flags', 'data_url': 'https://archive.ics.uci.edu/static/public/40/data.csv', 'abstract': 'From Collins Gem Guide to Flags, 1986', 'area': 'Other', 'tasks': ['Classification'], 'characteristics': ['Multivariate'], 'num_instances': 194, 'num_features': 30, 'feature_types': ['Categorical', 'Integer'], 'demographics': ['Other'], 'target_col': None, 'index_col': None, 'has_missing_values': 'no', 'missing_values_symbol': None, 'year_of_dataset_creation': 1990, 'last_updated': 'Mon Feb 26 2024', 'dataset_doi': '10.24432/C52C7Z', 'creators': [], 'intro_paper': None, 'additional_info': {'summary': 'This data file contains details of various nations and their flags. In this file the fields are separated by spaces (not commas).  With this data you can try things like predicting the religion of a country from its size and the colours in its flag.  \\r\\n\\r\\n10 attributes are numeric-valued.  The remainder are either Boolean- or nominal-valued.', 'purpose': None, 'funded_by': None, 'instances_represent': None, 'recommended_data_splits': None, 'sensitive_data': None, 'preprocessing_description': None, 'variable_info': '   1. name:\\tName of the country concerned\\r\\n   2. landmass:\\t1=N.America, 2=S.America, 3=Europe, 4=Africa, 4=Asia, 6=Oceania\\r\\n   3. zone:\\tGeographic quadrant, based on Greenwich and the Equator; 1=NE, 2=SE, 3=SW, 4=NW\\r\\n   4. area:\\tin thousands of square km\\r\\n   5. population:\\tin round millions\\r\\n   6. language: 1=English, 2=Spanish, 3=French, 4=German, 5=Slavic, 6=Other Indo-European, 7=Chinese, 8=Arabic, 9=Japanese/Turkish/Finnish/Magyar, 10=Others\\r\\n   7. religion: 0=Catholic, 1=Other Christian, 2=Muslim, 3=Buddhist, 4=Hindu, 5=Ethnic, 6=Marxist, 7=Others\\r\\n   8. bars:     Number of vertical bars in the flag\\r\\n   9. stripes:  Number of horizontal stripes in the flag\\r\\n  10. colours:  Number of different colours in the flag\\r\\n  11. red:      0 if red absent, 1 if red present in the flag\\r\\n  12. green:    same for green\\r\\n  13. blue:     same for blue\\r\\n  14. gold:     same for gold (also yellow)\\r\\n  15. white:    same for white\\r\\n  16. black:    same for black\\r\\n  17. orange:   same for orange (also brown)\\r\\n  18. mainhue:  predominant colour in the flag (tie-breaks decided by taking the topmost hue, if that fails then the most central hue, and if that fails the leftmost hue)\\r\\n  19. circles:  Number of circles in the flag\\r\\n  20. crosses:  Number of (upright) crosses\\r\\n  21. saltires: Number of diagonal crosses\\r\\n  22. quarters: Number of quartered sections\\r\\n  23. sunstars: Number of sun or star symbols\\r\\n  24. crescent: 1 if a crescent moon symbol present, else 0\\r\\n  25. triangle: 1 if any triangles present, 0 otherwise\\r\\n  26. icon:     1 if an inanimate image present (e.g., a boat), otherwise 0\\r\\n  27. animate:  1 if an animate image (e.g., an eagle, a tree, a human hand) present, 0 otherwise\\r\\n  28. text:     1 if any letters or writing on the flag (e.g., a motto or slogan), 0 otherwise\\r\\n  29. topleft:  colour in the top-left corner (moving right to decide tie-breaks)\\r\\n  30. botright: Colour in the bottom-left corner (moving left to decide tie-breaks)', 'citation': None}}\n",
      "          name     role         type demographic description units  \\\n",
      "0         name  Feature  Categorical       Other        None  None   \n",
      "1     landmass  Feature      Integer        None        None  None   \n",
      "2         zone  Feature      Integer        None        None  None   \n",
      "3         area  Feature      Integer        None        None  None   \n",
      "4   population  Feature      Integer        None        None  None   \n",
      "5     language  Feature      Integer       Other        None  None   \n",
      "6     religion  Feature      Integer       Other        None  None   \n",
      "7         bars  Feature      Integer        None        None  None   \n",
      "8      stripes  Feature      Integer        None        None  None   \n",
      "9      colours  Feature      Integer        None        None  None   \n",
      "10         red  Feature      Integer        None        None  None   \n",
      "11       green  Feature      Integer        None        None  None   \n",
      "12        blue  Feature      Integer        None        None  None   \n",
      "13        gold  Feature      Integer        None        None  None   \n",
      "14       white  Feature      Integer        None        None  None   \n",
      "15       black  Feature      Integer        None        None  None   \n",
      "16      orange  Feature      Integer        None        None  None   \n",
      "17     mainhue  Feature  Categorical        None        None  None   \n",
      "18     circles  Feature      Integer        None        None  None   \n",
      "19     crosses  Feature      Integer        None        None  None   \n",
      "20    saltries  Feature      Integer        None        None  None   \n",
      "21    quarters  Feature      Integer        None        None  None   \n",
      "22    sunstars  Feature      Integer        None        None  None   \n",
      "23    crescent  Feature      Integer        None        None  None   \n",
      "24    triangle  Feature      Integer        None        None  None   \n",
      "25        icon  Feature      Integer        None        None  None   \n",
      "26     animate  Feature      Integer        None        None  None   \n",
      "27        text  Feature      Integer        None        None  None   \n",
      "28     topleft  Feature  Categorical        None        None  None   \n",
      "29    botright  Feature  Categorical        None        None  None   \n",
      "\n",
      "   missing_values  \n",
      "0              no  \n",
      "1              no  \n",
      "2              no  \n",
      "3              no  \n",
      "4              no  \n",
      "5              no  \n",
      "6              no  \n",
      "7              no  \n",
      "8              no  \n",
      "9              no  \n",
      "10             no  \n",
      "11             no  \n",
      "12             no  \n",
      "13             no  \n",
      "14             no  \n",
      "15             no  \n",
      "16             no  \n",
      "17             no  \n",
      "18             no  \n",
      "19             no  \n",
      "20             no  \n",
      "21             no  \n",
      "22             no  \n",
      "23             no  \n",
      "24             no  \n",
      "25             no  \n",
      "26             no  \n",
      "27             no  \n",
      "28             no  \n",
      "29             no  \n"
     ]
    }
   ],
   "source": [
    "from ucimlrepo import fetch_ucirepo \n",
    "  \n",
    "# fetch dataset \n",
    "flags = fetch_ucirepo(id=40) \n",
    "  \n",
    "# data (as pandas dataframes) \n",
    "X = flags.data.features \n",
    "y = flags.data.targets \n",
    "  \n",
    "# metadata \n",
    "print(flags.metadata) \n",
    "  \n",
    "# variable information \n",
    "print(flags.variables) \n"
   ]
  },
  {
   "cell_type": "code",
   "execution_count": 4,
   "id": "c9f97c2f",
   "metadata": {},
   "outputs": [],
   "source": [
    "import pandas as pd"
   ]
  }
 ],
 "metadata": {
  "kernelspec": {
   "display_name": "Python 3",
   "language": "python",
   "name": "python3"
  },
  "language_info": {
   "codemirror_mode": {
    "name": "ipython",
    "version": 3
   },
   "file_extension": ".py",
   "mimetype": "text/x-python",
   "name": "python",
   "nbconvert_exporter": "python",
   "pygments_lexer": "ipython3",
   "version": "3.12.1"
  }
 },
 "nbformat": 4,
 "nbformat_minor": 5
}
